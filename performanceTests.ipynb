{
 "cells": [
  {
   "cell_type": "markdown",
   "metadata": {},
   "source": [
    "## Run basic performance tests to compare computers"
   ]
  },
  {
   "cell_type": "code",
   "execution_count": 9,
   "metadata": {
    "collapsed": true
   },
   "outputs": [],
   "source": [
    "n = 1000000\n",
    "\n",
    "def sumloop(n):\n",
    "    a = 0 \n",
    "    for i in range(n):\n",
    "        a = a + i\n",
    "    return a\n",
    "   \n",
    "from functools import reduce\n",
    "def sumreduce(n):\n",
    "    return reduce(lambda x, y: x + y, range(n))\n",
    "        \n",
    "def sumfunction(n):\n",
    "    return sum(range(n))\n",
    "\n",
    "        \n",
    "def appendloop(n):\n",
    "    l = []\n",
    "    for i in range(n):\n",
    "        l.append(i)       \n",
    "    return l\n",
    "\n",
    "def appendlistcomp(n):\n",
    "    return [x for x in range (n)]\n"
   ]
  },
  {
   "cell_type": "markdown",
   "metadata": {},
   "source": [
    "## Tests:\n",
    "* D = PC (i5-3330, 12GB, Ubuntu)            : 52ms \n",
    "* N = Dell 14-5457 (i7-6500U, 16GB, Win10)  : 120ms\n",
    "    "
   ]
  },
  {
   "cell_type": "code",
   "execution_count": null,
   "metadata": {},
   "outputs": [],
   "source": [
    "print (sumloop(n), sumfunction(n), sumreduce(n), len(appendloop(n)), len(appendlistcomp(n)))"
   ]
  },
  {
   "cell_type": "code",
   "execution_count": null,
   "metadata": {},
   "outputs": [],
   "source": [
    "%timeit(sumloop(n))"
   ]
  },
  {
   "cell_type": "markdown",
   "metadata": {},
   "source": [
    "* D : 53ms \n",
    "* N : 120ms"
   ]
  },
  {
   "cell_type": "code",
   "execution_count": null,
   "metadata": {},
   "outputs": [],
   "source": [
    "%timeit(sumreduce(n))"
   ]
  },
  {
   "cell_type": "markdown",
   "metadata": {},
   "source": [
    "* D: 115ms\n",
    "* N: 240ms"
   ]
  },
  {
   "cell_type": "code",
   "execution_count": null,
   "metadata": {},
   "outputs": [],
   "source": [
    "%timeit(sumfunction(n))"
   ]
  },
  {
   "cell_type": "markdown",
   "metadata": {},
   "source": [
    "* D: 18ms\n",
    "* N: 59ms"
   ]
  },
  {
   "cell_type": "code",
   "execution_count": null,
   "metadata": {},
   "outputs": [],
   "source": [
    "%timeit(appendloop(n))"
   ]
  },
  {
   "cell_type": "markdown",
   "metadata": {},
   "source": [
    "* D: 85ms\n",
    "* N: "
   ]
  },
  {
   "cell_type": "code",
   "execution_count": null,
   "metadata": {},
   "outputs": [],
   "source": [
    "%timeit(appendlistcomp(n))"
   ]
  },
  {
   "cell_type": "markdown",
   "metadata": {},
   "source": [
    "* D: 41ms\n",
    "* N: "
   ]
  },
  {
   "cell_type": "code",
   "execution_count": null,
   "metadata": {
    "collapsed": true
   },
   "outputs": [],
   "source": []
  }
 ],
 "metadata": {
  "kernelspec": {
   "display_name": "Python 3",
   "language": "python",
   "name": "python3"
  },
  "language_info": {
   "codemirror_mode": {
    "name": "ipython",
    "version": 3
   },
   "file_extension": ".py",
   "mimetype": "text/x-python",
   "name": "python",
   "nbconvert_exporter": "python",
   "pygments_lexer": "ipython3",
   "version": "3.6.3"
  }
 },
 "nbformat": 4,
 "nbformat_minor": 2
}
